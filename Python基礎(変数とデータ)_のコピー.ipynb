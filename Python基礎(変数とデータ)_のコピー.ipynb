{
  "nbformat": 4,
  "nbformat_minor": 0,
  "metadata": {
    "colab": {
      "provenance": [],
      "authorship_tag": "ABX9TyOxtqGJEK+6cQLQfnEaqJPl",
      "include_colab_link": true
    },
    "kernelspec": {
      "name": "python3",
      "display_name": "Python 3"
    },
    "language_info": {
      "name": "python"
    }
  },
  "cells": [
    {
      "cell_type": "markdown",
      "metadata": {
        "id": "view-in-github",
        "colab_type": "text"
      },
      "source": [
        "<a href=\"https://colab.research.google.com/github/HAKK1123/HAKK1123/blob/main/Python%E5%9F%BA%E7%A4%8E(%E5%A4%89%E6%95%B0%E3%81%A8%E3%83%87%E3%83%BC%E3%82%BF)_%E3%81%AE%E3%82%B3%E3%83%94%E3%83%BC.ipynb\" target=\"_parent\"><img src=\"https://colab.research.google.com/assets/colab-badge.svg\" alt=\"Open In Colab\"/></a>"
      ]
    },
    {
      "cell_type": "markdown",
      "source": [
        "式と演算\n"
      ],
      "metadata": {
        "id": "uLsmNQfMhvDk"
      }
    },
    {
      "cell_type": "code",
      "source": [
        "# print関数に数値\n",
        "\n",
        "print(1)\n",
        "print(10)"
      ],
      "metadata": {
        "colab": {
          "base_uri": "https://localhost:8080/"
        },
        "id": "3Eqj_RBkhzeu",
        "outputId": "73498687-1316-4118-f3fd-dd1afbe8ab71"
      },
      "execution_count": null,
      "outputs": [
        {
          "output_type": "stream",
          "name": "stdout",
          "text": [
            "1\n",
            "10\n"
          ]
        }
      ]
    },
    {
      "cell_type": "code",
      "source": [
        "# 加算と演算\n",
        "\n",
        "print(1 + 1)\n",
        "print(10 - 2)"
      ],
      "metadata": {
        "colab": {
          "base_uri": "https://localhost:8080/"
        },
        "id": "-IEYeW9Dh8vP",
        "outputId": "334dd144-7920-4ee0-a958-d93230950414"
      },
      "execution_count": null,
      "outputs": [
        {
          "output_type": "stream",
          "name": "stdout",
          "text": [
            "2\n",
            "8\n"
          ]
        }
      ]
    },
    {
      "cell_type": "code",
      "source": [
        "# 文字列の演算\n",
        "\n",
        "print('1' + '1')\n",
        "print('オラ' * 3)"
      ],
      "metadata": {
        "colab": {
          "base_uri": "https://localhost:8080/"
        },
        "id": "X1YOKNCDiNNP",
        "outputId": "60d64000-fcfd-41d4-9e9d-b90f48817b81"
      },
      "execution_count": null,
      "outputs": [
        {
          "output_type": "stream",
          "name": "stdout",
          "text": [
            "11\n",
            "オラオラオラ\n"
          ]
        }
      ]
    },
    {
      "cell_type": "code",
      "source": [
        "# 文字列の演算の応用\n",
        "\n",
        "print('Python' + 'の世界へようこそ')\n",
        "print('Pythonは' + 'とっても' * 3 + '楽しいですよ')"
      ],
      "metadata": {
        "colab": {
          "base_uri": "https://localhost:8080/"
        },
        "id": "0W_nDnIUizVL",
        "outputId": "02839837-5f53-4244-b206-0d34656bd508"
      },
      "execution_count": null,
      "outputs": [
        {
          "output_type": "stream",
          "name": "stdout",
          "text": [
            "Pythonの世界へようこそ\n",
            "Pythonはとってもとってもとっても楽しいですよ\n"
          ]
        }
      ]
    },
    {
      "cell_type": "code",
      "source": [
        "# 文字列の途中で改行\n",
        "\n",
        "print('はじめまして松田です身体を動かすのが好きです')\n",
        "print('はじめまして\\n松田です\\n身体を動かすのが好きです')\n",
        "print('引用符には\\'と\\\"があります')"
      ],
      "metadata": {
        "colab": {
          "base_uri": "https://localhost:8080/"
        },
        "id": "dEdwRtG0jQ7i",
        "outputId": "ed56282b-7837-497b-f78f-b9e5203e8642"
      },
      "execution_count": null,
      "outputs": [
        {
          "output_type": "stream",
          "name": "stdout",
          "text": [
            "はじめまして松田です身体を動かすのが好きです\n",
            "はじめまして\n",
            "松田です\n",
            "身体を動かすのが好きです\n",
            "引用符には'と\"があります\n"
          ]
        }
      ]
    },
    {
      "cell_type": "markdown",
      "source": [
        "変数"
      ],
      "metadata": {
        "id": "LnRkW1OQlvTr"
      }
    },
    {
      "cell_type": "code",
      "source": [
        "# 同じ式が何度も登場\n",
        "\n",
        "print('半径が3cmの円の直径は')\n",
        "print(3 * 2)\n",
        "print('その円の円周の長さは、直径 * 円周率で求まるため、')\n",
        "print(3 * 2 * 3.14)"
      ],
      "metadata": {
        "colab": {
          "base_uri": "https://localhost:8080/"
        },
        "id": "1IJcMu-qlwzq",
        "outputId": "2d966761-e10c-46b3-b7d4-5e75fe662b9f"
      },
      "execution_count": null,
      "outputs": [
        {
          "output_type": "stream",
          "name": "stdout",
          "text": [
            "半径が3cmの円の直径は\n",
            "6\n",
            "その円の円周の長さは、直径 * 円周率で求まるため、\n",
            "18.84\n"
          ]
        }
      ]
    },
    {
      "cell_type": "code",
      "source": [
        "# 変数の理由\n",
        "\n",
        "name = '松田'\n",
        "age = 22\n",
        "print(name)\n",
        "print(age)"
      ],
      "metadata": {
        "colab": {
          "base_uri": "https://localhost:8080/"
        },
        "id": "7Zeg9u4ymZQh",
        "outputId": "d8adf403-0944-4f04-daad-1c6a6927ba22"
      },
      "execution_count": null,
      "outputs": [
        {
          "output_type": "stream",
          "name": "stdout",
          "text": [
            "松田\n",
            "22\n"
          ]
        }
      ]
    },
    {
      "cell_type": "code",
      "source": [
        "print('半径が3cmの円の直径は、')\n",
        "dia = 3 * 2\n",
        "print(dia)\n",
        "print('その円の円周の長さは、')\n",
        "print(dia * 3.14)"
      ],
      "metadata": {
        "colab": {
          "base_uri": "https://localhost:8080/"
        },
        "id": "zJA8N6KssWTU",
        "outputId": "a3517c14-c13d-421c-d322-809341b27d22"
      },
      "execution_count": null,
      "outputs": [
        {
          "output_type": "stream",
          "name": "stdout",
          "text": [
            "半径が3cmの円の直径は、\n",
            "6\n",
            "その円の円周の長さは、\n",
            "18.84\n"
          ]
        }
      ]
    },
    {
      "cell_type": "code",
      "source": [
        "# 変数の上書き\n",
        "\n",
        "age = 20\n",
        "print('浅木の年齢は')\n",
        "print(age)\n",
        "\n",
        "age = 24\n",
        "print('嘘、本当は')\n",
        "print(age)"
      ],
      "metadata": {
        "colab": {
          "base_uri": "https://localhost:8080/"
        },
        "id": "Gp1F4M2RtGyl",
        "outputId": "cfbc2fad-45a2-477b-b0d0-6faeb21efbb4"
      },
      "execution_count": null,
      "outputs": [
        {
          "output_type": "stream",
          "name": "stdout",
          "text": [
            "浅木の年齢は\n",
            "20\n",
            "嘘、本当は\n",
            "24\n"
          ]
        }
      ]
    },
    {
      "cell_type": "code",
      "source": [
        "# アンパック代入\n",
        "\n",
        "name, age = '浅木', 24"
      ],
      "metadata": {
        "id": "BiezfWt3tuHQ"
      },
      "execution_count": null,
      "outputs": []
    },
    {
      "cell_type": "code",
      "source": [
        "# 浅木さんの年齢を予測\n",
        "\n",
        "age = 24\n",
        "print('浅木先輩の今年の年齢は')\n",
        "print(age)\n",
        "age + 1\n",
        "print('来年は')\n",
        "age + 1\n",
        "print(age)\n",
        "print('再来年は')\n",
        "age + 1\n",
        "print(age)"
      ],
      "metadata": {
        "colab": {
          "base_uri": "https://localhost:8080/"
        },
        "id": "DtQ4gn3st8cl",
        "outputId": "b466501b-d054-415c-b993-02164c990dc1"
      },
      "execution_count": null,
      "outputs": [
        {
          "output_type": "stream",
          "name": "stdout",
          "text": [
            "浅木先輩の今年の年齢は\n",
            "24\n",
            "来年は\n",
            "24\n",
            "再来年は\n",
            "24\n"
          ]
        }
      ]
    },
    {
      "cell_type": "code",
      "source": [
        "# 浅木さんの年齢を予測(修正版)\n",
        "\n",
        "age = 24\n",
        "print('浅木先輩の今年の年齢は')\n",
        "print(age)\n",
        "age = age + 1\n",
        "print('来年は')\n",
        "print(age)\n",
        "age = age + 1\n",
        "print('再来年は')\n",
        "print(age)\n",
        "age = age + 1"
      ],
      "metadata": {
        "colab": {
          "base_uri": "https://localhost:8080/"
        },
        "id": "_TSiuBp0u44g",
        "outputId": "5b31fef0-811a-414b-85a3-5e158d283899"
      },
      "execution_count": null,
      "outputs": [
        {
          "output_type": "stream",
          "name": "stdout",
          "text": [
            "浅木先輩の今年の年齢は\n",
            "24\n",
            "来年は\n",
            "25\n",
            "再来年は\n",
            "26\n"
          ]
        }
      ]
    },
    {
      "cell_type": "code",
      "source": [
        "# 加減乗法\n",
        "\n",
        "age += 1\n",
        "age -= 1"
      ],
      "metadata": {
        "id": "gRNBAtX5vivO"
      },
      "execution_count": null,
      "outputs": []
    },
    {
      "cell_type": "code",
      "source": [
        "# キーボードから値を入力\n",
        "\n",
        "name = input('あなたの名前を入力してください　>>')\n",
        "print('おお' + 'よ、そなたが来るのを待っておったぞ!')"
      ],
      "metadata": {
        "colab": {
          "base_uri": "https://localhost:8080/"
        },
        "id": "uvqY5AySwDV2",
        "outputId": "df0b9d5b-a6ca-4fce-93a2-cf5c548c4547"
      },
      "execution_count": null,
      "outputs": [
        {
          "output_type": "stream",
          "name": "stdout",
          "text": [
            "あなたの名前を入力してください　>>快斗\n",
            "おおよ、そなたが来るのを待っておったぞ!\n"
          ]
        }
      ]
    },
    {
      "cell_type": "markdown",
      "source": [
        "データ型"
      ],
      "metadata": {
        "id": "pKmNsDq5yBrr"
      }
    },
    {
      "cell_type": "code",
      "source": [
        "# 異なるデータ型\n",
        "\n",
        "X = '松田'\n",
        "print(X)\n",
        "X = 23\n",
        "print(X)\n",
        "X = 175.6\n",
        "print(X)"
      ],
      "metadata": {
        "colab": {
          "base_uri": "https://localhost:8080/"
        },
        "id": "0T4ZSbriyGjT",
        "outputId": "c6697f3d-df2a-4e2c-8f70-88931d1d5fda"
      },
      "execution_count": null,
      "outputs": [
        {
          "output_type": "stream",
          "name": "stdout",
          "text": [
            "松田\n",
            "23\n",
            "175.6\n"
          ]
        }
      ]
    },
    {
      "cell_type": "code",
      "source": [
        "# 値のデータ型 int型 = 整数\n",
        "\n",
        "x = 10\n",
        "print(type(x))"
      ],
      "metadata": {
        "colab": {
          "base_uri": "https://localhost:8080/"
        },
        "id": "K7TKjf7G4mIT",
        "outputId": "342fa7f7-1b3f-4af0-85d6-b991bcc8d160"
      },
      "execution_count": null,
      "outputs": [
        {
          "output_type": "stream",
          "name": "stdout",
          "text": [
            "<class 'int'>\n"
          ]
        }
      ]
    },
    {
      "cell_type": "code",
      "source": [
        "#割り勘計算のプログラム\n",
        "\n",
        "price = input('料金を入力 >>')\n",
        "print(type(price))"
      ],
      "metadata": {
        "colab": {
          "base_uri": "https://localhost:8080/"
        },
        "id": "0i4eDQ0i4zWs",
        "outputId": "40de3de3-4765-4507-c895-ba4cac6fdc0f"
      },
      "execution_count": null,
      "outputs": [
        {
          "output_type": "stream",
          "name": "stdout",
          "text": [
            "料金を入力 >>15000\n",
            "<class 'str'>\n"
          ]
        }
      ]
    },
    {
      "cell_type": "code",
      "source": [
        "# データ型の変換\n",
        "\n",
        "x = 3.14\n",
        "y = int(x)\n",
        "print(y)\n",
        "print(type(y))\n",
        "z = str(x)\n",
        "print(z)\n",
        "print(type(z))\n",
        "print(z * 2)"
      ],
      "metadata": {
        "colab": {
          "base_uri": "https://localhost:8080/"
        },
        "id": "0UYOfnk65R86",
        "outputId": "bf67bb4c-089d-4b36-ee12-7c3dc4176055"
      },
      "execution_count": null,
      "outputs": [
        {
          "output_type": "stream",
          "name": "stdout",
          "text": [
            "3\n",
            "<class 'int'>\n",
            "3.14\n",
            "<class 'str'>\n",
            "3.143.14\n"
          ]
        }
      ]
    },
    {
      "cell_type": "code",
      "source": [
        "# 文字列に数値を埋め込む\n",
        "\n",
        "name = '松田光太'\n",
        "age = 23\n",
        "height = 175.6\n",
        "print('私の名前は' + name + 'で、年齢は' + str(age) + '歳で、身長は' + str(height) + 'cmです')"
      ],
      "metadata": {
        "colab": {
          "base_uri": "https://localhost:8080/"
        },
        "id": "4M2o-1Gz5w8F",
        "outputId": "8cfc568c-79f8-4a80-dd27-90e8b9196645"
      },
      "execution_count": null,
      "outputs": [
        {
          "output_type": "stream",
          "name": "stdout",
          "text": [
            "私の名前は松田光太で、年齢は23歳で、身長は175.6cmです\n"
          ]
        }
      ]
    },
    {
      "cell_type": "code",
      "source": [
        "# format関数で文字列の数値を埋め込む\n",
        "\n",
        "name = '松田光太'\n",
        "age = 23\n",
        "height = 175.6\n",
        "print(f'私の名前は{name}で、年齢は{age}歳で、身長は{height}cmです')"
      ],
      "metadata": {
        "colab": {
          "base_uri": "https://localhost:8080/"
        },
        "id": "VYOQF0e67gW5",
        "outputId": "1501081f-f723-4db4-e5c7-af44a2989331"
      },
      "execution_count": null,
      "outputs": [
        {
          "output_type": "stream",
          "name": "stdout",
          "text": [
            "私の名前は松田光太で、年齢は23歳で、身長は175.6cmです\n"
          ]
        }
      ]
    },
    {
      "cell_type": "code",
      "source": [
        "# 割り勘計算プログラム\n",
        "\n",
        "price = int(input('料金を入力 >>'))\n",
        "number = int(input('人数を入力 >>'))\n",
        "payment = price / number\n",
        "print('お支払は{}円です'.format(payment))"
      ],
      "metadata": {
        "colab": {
          "base_uri": "https://localhost:8080/"
        },
        "id": "IV7cvhkX8LrJ",
        "outputId": "f35d2266-eedd-44e2-cb17-f22e2fb4e60d"
      },
      "execution_count": null,
      "outputs": [
        {
          "output_type": "stream",
          "name": "stdout",
          "text": [
            "料金を入力 >>4000\n",
            "人数を入力 >>4\n",
            "お支払は1000.0円です\n"
          ]
        }
      ]
    }
  ]
}