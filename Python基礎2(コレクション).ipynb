{
  "nbformat": 4,
  "nbformat_minor": 0,
  "metadata": {
    "colab": {
      "provenance": [],
      "authorship_tag": "ABX9TyNQwqmZXsQvs4U57rv9nX5E",
      "include_colab_link": true
    },
    "kernelspec": {
      "name": "python3",
      "display_name": "Python 3"
    },
    "language_info": {
      "name": "python"
    }
  },
  "cells": [
    {
      "cell_type": "markdown",
      "metadata": {
        "id": "view-in-github",
        "colab_type": "text"
      },
      "source": [
        "<a href=\"https://colab.research.google.com/github/HAKK1123/HAKK1123/blob/main/Python%E5%9F%BA%E7%A4%8E2(%E3%82%B3%E3%83%AC%E3%82%AF%E3%82%B7%E3%83%A7%E3%83%B3).ipynb\" target=\"_parent\"><img src=\"https://colab.research.google.com/assets/colab-badge.svg\" alt=\"Open In Colab\"/></a>"
      ]
    },
    {
      "cell_type": "markdown",
      "source": [
        "# データの集まり"
      ],
      "metadata": {
        "id": "8hOJfmPa-xGL"
      }
    },
    {
      "cell_type": "code",
      "source": [
        "# 点数管理プログラム\n",
        "\n",
        "network = 88\n",
        "database = 95\n",
        "security = 90\n",
        "total = network + database + security\n",
        "avg = total / 3\n",
        "print('合計点:{}'.format(total))\n",
        "print('平均点:{}'.format(avg))"
      ],
      "metadata": {
        "id": "7c1qYnqM-0qj",
        "colab": {
          "base_uri": "https://localhost:8080/"
        },
        "outputId": "533bc093-27ae-4c47-8848-0b73b26a0503"
      },
      "execution_count": null,
      "outputs": [
        {
          "output_type": "stream",
          "name": "stdout",
          "text": [
            "合計点:273\n",
            "平均点:91.0\n"
          ]
        }
      ]
    },
    {
      "cell_type": "markdown",
      "source": [
        "# リスト"
      ],
      "metadata": {
        "id": "-WefqEBMfZWU"
      }
    },
    {
      "cell_type": "code",
      "source": [
        "# リストを作成して参照\n",
        "\n",
        "members = ['工藤', '松田', '浅木']\n",
        "print(members)"
      ],
      "metadata": {
        "colab": {
          "base_uri": "https://localhost:8080/"
        },
        "id": "ZKDgXqc8fklp",
        "outputId": "646ce403-2d55-41ac-f6cc-50618619d321"
      },
      "execution_count": null,
      "outputs": [
        {
          "output_type": "stream",
          "name": "stdout",
          "text": [
            "['工藤', '松田', '浅木']\n"
          ]
        }
      ]
    },
    {
      "cell_type": "code",
      "source": [
        "# リストの要素を参照\n",
        "\n",
        "members = ['工藤', '松田', '浅木']\n",
        "print(members[0])"
      ],
      "metadata": {
        "colab": {
          "base_uri": "https://localhost:8080/"
        },
        "id": "LDrXV90Bf6bv",
        "outputId": "8f30117a-4103-4894-e63a-1dbff30ac826"
      },
      "execution_count": null,
      "outputs": [
        {
          "output_type": "stream",
          "name": "stdout",
          "text": [
            "工藤\n"
          ]
        }
      ]
    },
    {
      "cell_type": "code",
      "source": [
        "# 試験の合計と平均\n",
        "\n",
        "scores = [88, 90, 95]\n",
        "total = scores[0] + scores[1] + scores[2]\n",
        "print('合計{}点'.format(total))"
      ],
      "metadata": {
        "colab": {
          "base_uri": "https://localhost:8080/"
        },
        "id": "LZamSqLHge1j",
        "outputId": "34060b9f-5252-4c52-8bb3-81c49ffd950e"
      },
      "execution_count": null,
      "outputs": [
        {
          "output_type": "stream",
          "name": "stdout",
          "text": [
            "合計273点\n"
          ]
        }
      ]
    },
    {
      "cell_type": "code",
      "source": [
        "# sum関数を用いて合計を求める\n",
        "\n",
        "scores = [88, 90, 95]\n",
        "total = sum(scores)\n",
        "print('合計{}点'.format(total))"
      ],
      "metadata": {
        "colab": {
          "base_uri": "https://localhost:8080/"
        },
        "id": "mBJmRQtrnK9O",
        "outputId": "c02e0a8c-e2cb-4956-ee4e-3b182cda3fcc"
      },
      "execution_count": null,
      "outputs": [
        {
          "output_type": "stream",
          "name": "stdout",
          "text": [
            "合計273点\n"
          ]
        }
      ]
    },
    {
      "cell_type": "code",
      "source": [
        "# リストの合計値と平均値\n",
        "\n",
        "scores = [88, 90, 95]\n",
        "total = sum(scores)\n",
        "avg = total / len(scores)\n",
        "print('合計{}点、平均{}点'.format(total, avg))"
      ],
      "metadata": {
        "colab": {
          "base_uri": "https://localhost:8080/"
        },
        "id": "MSsyBHnQnpDD",
        "outputId": "f5fed8b3-32fa-4d80-95ba-a05eb8b532a7"
      },
      "execution_count": null,
      "outputs": [
        {
          "output_type": "stream",
          "name": "stdout",
          "text": [
            "合計273点、平均91.0点\n"
          ]
        }
      ]
    },
    {
      "cell_type": "code",
      "source": [
        "# リストに要素を追加 appendで追加\n",
        "\n",
        "members = ['工藤', '松田', '浅木']\n",
        "members.append('菅原')\n",
        "members.append('湊')\n",
        "members.append('浅香')\n",
        "print(members)"
      ],
      "metadata": {
        "colab": {
          "base_uri": "https://localhost:8080/"
        },
        "id": "qPs1fkBhoLNf",
        "outputId": "badb0ff0-45d1-49cf-bb01-0dccf98f6123"
      },
      "execution_count": null,
      "outputs": [
        {
          "output_type": "stream",
          "name": "stdout",
          "text": [
            "['工藤', '松田', '浅木', '菅原', '湊', '浅香']\n"
          ]
        }
      ]
    },
    {
      "cell_type": "code",
      "source": [
        "# リストから要素を削除 removeで削除\n",
        "\n",
        "members = ['工藤', '松田', '浅木']\n",
        "members.remove('松田')\n",
        "print(members)"
      ],
      "metadata": {
        "colab": {
          "base_uri": "https://localhost:8080/"
        },
        "id": "Gz2Ee3HUou2m",
        "outputId": "44b511a7-62dc-46e9-8d78-95446339255f"
      },
      "execution_count": null,
      "outputs": [
        {
          "output_type": "stream",
          "name": "stdout",
          "text": [
            "['工藤', '浅木']\n"
          ]
        }
      ]
    },
    {
      "cell_type": "code",
      "source": [
        "# リストの要素を変更\n",
        "\n",
        "members = ['工藤', '松田', '浅木']\n",
        "members[0] = '菅原'\n",
        "print(members)"
      ],
      "metadata": {
        "colab": {
          "base_uri": "https://localhost:8080/"
        },
        "id": "jq4DEbuepPto",
        "outputId": "ead61117-b0c8-48bf-b04e-663f6b4882b0"
      },
      "execution_count": null,
      "outputs": [
        {
          "output_type": "stream",
          "name": "stdout",
          "text": [
            "['菅原', '松田', '浅木']\n"
          ]
        }
      ]
    },
    {
      "cell_type": "code",
      "source": [
        "# スライスによる範囲指定\n",
        "\n",
        "a = [10, 20, 30, 40, 50]\n",
        "print(a[1:3])             # 1以上3未満\n",
        "print(a[2:])              # 2以上\n",
        "print(a[:3])              # 3未満"
      ],
      "metadata": {
        "colab": {
          "base_uri": "https://localhost:8080/"
        },
        "id": "y8eMNEufpoNa",
        "outputId": "06635bc0-e045-4d17-dde6-b25688f7a59c"
      },
      "execution_count": null,
      "outputs": [
        {
          "output_type": "stream",
          "name": "stdout",
          "text": [
            "[20, 30]\n",
            "[30, 40, 50]\n",
            "[10, 20, 30]\n"
          ]
        }
      ]
    },
    {
      "cell_type": "code",
      "source": [
        "# 負の数による指定\n",
        "\n",
        "a = [10, 20, 30, 40, 50]\n",
        "print(a[-1])             # 末尾の要素\n",
        "print(a[-2])             # 末尾から2番目"
      ],
      "metadata": {
        "colab": {
          "base_uri": "https://localhost:8080/"
        },
        "id": "zraTc3-GqEkG",
        "outputId": "98ef357e-024d-4ca3-f14a-dbdbf25ee8bc"
      },
      "execution_count": null,
      "outputs": [
        {
          "output_type": "stream",
          "name": "stdout",
          "text": [
            "50\n",
            "40\n"
          ]
        }
      ]
    },
    {
      "cell_type": "markdown",
      "source": [
        "# ディクショナリ"
      ],
      "metadata": {
        "id": "osrkZMEkrE_2"
      }
    },
    {
      "cell_type": "code",
      "source": [
        "# ディクショナリの作成\n",
        "\n",
        "scores = {'network':60, 'database':80, 'security':50}\n",
        "print(scores)"
      ],
      "metadata": {
        "colab": {
          "base_uri": "https://localhost:8080/"
        },
        "id": "KOumUTZGrKKp",
        "outputId": "bde35c87-40aa-4980-d043-a75bd89af065"
      },
      "execution_count": null,
      "outputs": [
        {
          "output_type": "stream",
          "name": "stdout",
          "text": [
            "{'network': 60, 'database': 80, 'security': 50}\n"
          ]
        }
      ]
    },
    {
      "cell_type": "code",
      "source": [
        "# ディクショナリの要素を参照\n",
        "\n",
        "scores = {'network':60, 'database':80, 'security':50}\n",
        "print(scores['database'])"
      ],
      "metadata": {
        "colab": {
          "base_uri": "https://localhost:8080/"
        },
        "id": "Mmtri6obrmgI",
        "outputId": "fd6a7813-d767-4dd2-a99d-b7c8ecc9ec8b"
      },
      "execution_count": null,
      "outputs": [
        {
          "output_type": "stream",
          "name": "stdout",
          "text": [
            "80\n"
          ]
        }
      ]
    },
    {
      "cell_type": "code",
      "source": [
        "# ディクショナリの要素の追加と変更\n",
        "\n",
        "scores = {'network':60, 'database':80, 'security':50}\n",
        "scores['programming'] = 65\n",
        "scores['security'] = 55\n",
        "print(scores)"
      ],
      "metadata": {
        "colab": {
          "base_uri": "https://localhost:8080/"
        },
        "id": "II_HSFposFgF",
        "outputId": "609f3d60-d711-49e2-b4b9-b05f6844a104"
      },
      "execution_count": null,
      "outputs": [
        {
          "output_type": "stream",
          "name": "stdout",
          "text": [
            "{'network': 60, 'database': 80, 'security': 55, 'programming': 65}\n"
          ]
        }
      ]
    },
    {
      "cell_type": "code",
      "source": [
        "# ディクショナリの要素を削除 delで削除\n",
        "\n",
        "scores = {'network':60, 'database':80, 'security':50}\n",
        "del scores['security']\n",
        "print(scores)"
      ],
      "metadata": {
        "colab": {
          "base_uri": "https://localhost:8080/"
        },
        "id": "DOQMxKsL0FZr",
        "outputId": "e9228892-2d16-437a-a65d-817ae3629b47"
      },
      "execution_count": null,
      "outputs": [
        {
          "output_type": "stream",
          "name": "stdout",
          "text": [
            "{'network': 60, 'database': 80}\n"
          ]
        }
      ]
    },
    {
      "cell_type": "markdown",
      "source": [
        "# タプルとセット"
      ],
      "metadata": {
        "id": "HMSqM-Di0pzP"
      }
    },
    {
      "cell_type": "code",
      "source": [
        "# タプルの利用\n",
        "\n",
        "scores = (70, 80, 55)\n",
        "print(scores)\n",
        "print(scores[0])\n",
        "print('要素数は{}'.format(len(scores)))\n",
        "print('合計は{}'.format(sum(scores)))"
      ],
      "metadata": {
        "colab": {
          "base_uri": "https://localhost:8080/"
        },
        "id": "ZMEbrHeq0sPN",
        "outputId": "5b00dcae-5a7a-46e2-e606-58babdcff7b3"
      },
      "execution_count": null,
      "outputs": [
        {
          "output_type": "stream",
          "name": "stdout",
          "text": [
            "(70, 80, 55)\n",
            "70\n",
            "要素数は3\n",
            "合計は205\n"
          ]
        }
      ]
    },
    {
      "cell_type": "code",
      "source": [
        "# 要素数が1つのリストとディクショナリ\n",
        "\n",
        "members = ['松田']\n",
        "scores = {'network':82}"
      ],
      "metadata": {
        "id": "zVi_HAfn1Cvi"
      },
      "execution_count": null,
      "outputs": []
    },
    {
      "cell_type": "code",
      "source": [
        "# 要素数が1つのタプル\n",
        "\n",
        "members = ('松田')\n",
        "print(type(members))"
      ],
      "metadata": {
        "colab": {
          "base_uri": "https://localhost:8080/"
        },
        "id": "iKbQNpjw1hzA",
        "outputId": "5ea6150d-69ba-4283-e467-add9430b3e64"
      },
      "execution_count": null,
      "outputs": [
        {
          "output_type": "stream",
          "name": "stdout",
          "text": [
            "<class 'str'>\n"
          ]
        }
      ]
    },
    {
      "cell_type": "code",
      "source": [
        "# 要素数が1のタプル\n",
        "\n",
        "members = ('松田',)\n",
        "print(type(members))"
      ],
      "metadata": {
        "colab": {
          "base_uri": "https://localhost:8080/"
        },
        "id": "yQnf1vKh1vz6",
        "outputId": "f1c08753-dec6-4f7c-9881-6672564335ef"
      },
      "execution_count": null,
      "outputs": [
        {
          "output_type": "stream",
          "name": "stdout",
          "text": [
            "<class 'tuple'>\n"
          ]
        }
      ]
    },
    {
      "cell_type": "code",
      "source": [
        "# セットの利用\n",
        "\n",
        "scores = {70, 80, 55, 80}\n",
        "scores.add(80)\n",
        "print(scores)\n",
        "print('要素数は{}'.format(len(scores)))\n",
        "print('合計は{}'.format(sum(scores)))"
      ],
      "metadata": {
        "colab": {
          "base_uri": "https://localhost:8080/"
        },
        "id": "VecfHEtC2MGA",
        "outputId": "4ce0441a-b517-4ff8-c34b-176f581ac23e"
      },
      "execution_count": null,
      "outputs": [
        {
          "output_type": "stream",
          "name": "stdout",
          "text": [
            "{80, 70, 55}\n",
            "要素数は3\n",
            "合計は205\n"
          ]
        }
      ]
    },
    {
      "cell_type": "markdown",
      "source": [
        "# コレクションの応用"
      ],
      "metadata": {
        "id": "KiJyYVOn21jv"
      }
    },
    {
      "cell_type": "code",
      "source": [
        "# コレクションの相互変換\n",
        "\n",
        "scores = {'network':60, 'database':80, 'security':60}\n",
        "members = ['松田', '浅木', '工藤']\n",
        "print(tuple(members))\n",
        "print(list(scores))\n",
        "print(set(scores.values()))"
      ],
      "metadata": {
        "colab": {
          "base_uri": "https://localhost:8080/"
        },
        "id": "9cNh8I8924Yb",
        "outputId": "c462e096-9e27-4dc1-a67f-084d57776357"
      },
      "execution_count": null,
      "outputs": [
        {
          "output_type": "stream",
          "name": "stdout",
          "text": [
            "('松田', '浅木', '工藤')\n",
            "['network', 'database', 'security']\n",
            "{80, 60}\n"
          ]
        }
      ]
    },
    {
      "cell_type": "code",
      "source": [
        "# ディクショナリの中にディクショナリをネスト\n",
        "\n",
        "matsuda_scores = {'network':60, 'database':80, 'security':50}\n",
        "asagi_scores = {'network':80, 'database':75, 'security':92}\n",
        "member_score = {\n",
        "    '松田': matsuda_scores,\n",
        "    '浅木': asagi_scores\n",
        "}"
      ],
      "metadata": {
        "id": "dYEHlnOT3gEU"
      },
      "execution_count": null,
      "outputs": []
    },
    {
      "cell_type": "code",
      "source": [
        "# ディクショナリの中にセットをネスト\n",
        "\n",
        "member_hobbies = {\n",
        "    '松田':{'SNS', '麻雀', '自転車'},\n",
        "    '浅木':{'麻雀', '食べ歩き', '数学', '数学', '数学'}\n",
        "}\n",
        "print(member_hobbies)\n",
        "print(member_hobbies['松田'])\n",
        "print(member_hobbies['浅木'])"
      ],
      "metadata": {
        "colab": {
          "base_uri": "https://localhost:8080/"
        },
        "id": "TXs1UDsl47us",
        "outputId": "8535a583-eea5-4400-b591-32b41357887d"
      },
      "execution_count": null,
      "outputs": [
        {
          "output_type": "stream",
          "name": "stdout",
          "text": [
            "{'松田': {'SNS', '麻雀', '自転車'}, '浅木': {'食べ歩き', '麻雀', '数学'}}\n",
            "{'SNS', '麻雀', '自転車'}\n",
            "{'食べ歩き', '麻雀', '数学'}\n"
          ]
        }
      ]
    },
    {
      "cell_type": "code",
      "source": [
        "# 2次元リストの例\n",
        "\n",
        "a = [1, 2, 3]\n",
        "b = [4, 5, 6]\n",
        "c = [a, b]\n",
        "\n",
        "print(c)\n",
        "print(c[0])\n",
        "print(c[1][2])"
      ],
      "metadata": {
        "colab": {
          "base_uri": "https://localhost:8080/"
        },
        "id": "L58pCvvV5u8n",
        "outputId": "74811740-5a83-4fbc-dddd-4c387756a5d7"
      },
      "execution_count": null,
      "outputs": [
        {
          "output_type": "stream",
          "name": "stdout",
          "text": [
            "[[1, 2, 3], [4, 5, 6]]\n",
            "[1, 2, 3]\n",
            "6\n"
          ]
        }
      ]
    },
    {
      "cell_type": "code",
      "source": [
        "# セットの演算\n",
        "\n",
        "member_hobbies = {\n",
        "    '松田':{'SNS', '麻雀', '自転車'},\n",
        "    '浅木':{'麻雀', '食べ歩き', '数学'}\n",
        "}\n",
        "common_hobbies = member_hobbies['松田'] & member_hobbies['浅木']\n",
        "print(common_hobbies)"
      ],
      "metadata": {
        "colab": {
          "base_uri": "https://localhost:8080/"
        },
        "id": "2088uITW6BIU",
        "outputId": "9a1afc44-a643-4ce1-fadd-369416dfc7e2"
      },
      "execution_count": null,
      "outputs": [
        {
          "output_type": "stream",
          "name": "stdout",
          "text": [
            "{'麻雀'}\n"
          ]
        }
      ]
    },
    {
      "cell_type": "code",
      "source": [
        "# 4つの集合演算\n",
        "\n",
        "A = {1, 2, 3, 4}\n",
        "B = {2, 3, 4, 5}\n",
        "print(A | B)      # 和集合(全体)\n",
        "print(A & B)      # 積集合(共通部分)\n",
        "print(A - B)      # 差集合\n",
        "print(A ^ B)      # 対称差(余った部分)"
      ],
      "metadata": {
        "colab": {
          "base_uri": "https://localhost:8080/"
        },
        "id": "iMSF67Ga69u2",
        "outputId": "3699a05d-d9ae-4791-fc18-bc433edcabc1"
      },
      "execution_count": null,
      "outputs": [
        {
          "output_type": "stream",
          "name": "stdout",
          "text": [
            "{1, 2, 3, 4, 5}\n",
            "{2, 3, 4}\n",
            "{1}\n",
            "{1, 5}\n"
          ]
        }
      ]
    }
  ]
}