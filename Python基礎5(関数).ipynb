{
  "nbformat": 4,
  "nbformat_minor": 0,
  "metadata": {
    "colab": {
      "provenance": [],
      "authorship_tag": "ABX9TyMGHK9K/TnFLU+XPNq24EmH",
      "include_colab_link": true
    },
    "kernelspec": {
      "name": "python3",
      "display_name": "Python 3"
    },
    "language_info": {
      "name": "python"
    }
  },
  "cells": [
    {
      "cell_type": "markdown",
      "metadata": {
        "id": "view-in-github",
        "colab_type": "text"
      },
      "source": [
        "<a href=\"https://colab.research.google.com/github/HAKK1123/HAKK1123/blob/main/Python%E5%9F%BA%E7%A4%8E5(%E9%96%A2%E6%95%B0).ipynb\" target=\"_parent\"><img src=\"https://colab.research.google.com/assets/colab-badge.svg\" alt=\"Open In Colab\"/></a>"
      ]
    },
    {
      "cell_type": "markdown",
      "source": [
        "# オリジナルの関数"
      ],
      "metadata": {
        "id": "OacVPc1u_vo_"
      }
    },
    {
      "cell_type": "code",
      "source": [
        "# 見通しの悪いプログラム\n",
        "\n",
        "student_list = ['浅木', '松田']\n",
        "count = 0\n",
        "for student in student_list:\n",
        "    print('{}さんの試験結果を入力してください'.format(student))\n",
        "    network = int(input('ネットワークの得点? >>'))\n",
        "    database = int(input('データベースの得点? >>'))\n",
        "    security = int(input('セキュリティの得点? >>'))\n",
        "    if student == '浅木':\n",
        "        asagi_scores = [network, database, security]\n",
        "        asagi_avg = sum(asagi_scores) / len(asagi_scores)\n",
        "    else:\n",
        "         matsuda_scores = [network, database, security]\n",
        "         matsuda_avg = sum(matsuda_scores) / len(matsuda_scores)\n",
        "print('浅木さんの平均点は{}です'.format(asagi_avg))\n",
        "print('松田さんの平均点は{}です'.format(matsuda_avg))"
      ],
      "metadata": {
        "colab": {
          "base_uri": "https://localhost:8080/"
        },
        "id": "krLTTBI5_xp5",
        "outputId": "c6a55363-3aef-47f5-9207-bd0b6fa23cba"
      },
      "execution_count": null,
      "outputs": [
        {
          "output_type": "stream",
          "name": "stdout",
          "text": [
            "浅木さんの試験結果を入力してください\n",
            "ネットワークの得点? >>50\n",
            "データベースの得点? >>40\n",
            "セキュリティの得点? >>78\n",
            "松田さんの試験結果を入力してください\n",
            "ネットワークの得点? >>12\n",
            "データベースの得点? >>34\n",
            "セキュリティの得点? >>57\n",
            "浅木さんの平均点は56.0です\n",
            "松田さんの平均点は34.333333333333336です\n"
          ]
        }
      ]
    },
    {
      "cell_type": "code",
      "source": [
        "# hello関数の定義\n",
        "\n",
        "def hello():\n",
        "    print('こんにちは、工藤です。')"
      ],
      "metadata": {
        "id": "s9gz_0Y1BjNu"
      },
      "execution_count": null,
      "outputs": []
    },
    {
      "cell_type": "code",
      "source": [
        "# hello関数の呼び出し\n",
        "\n",
        "hello()"
      ],
      "metadata": {
        "colab": {
          "base_uri": "https://localhost:8080/"
        },
        "id": "Jw1ojluhEeDx",
        "outputId": "b23b10c6-63ee-494c-bea3-afa17a4ef495"
      },
      "execution_count": null,
      "outputs": [
        {
          "output_type": "stream",
          "name": "stdout",
          "text": [
            "こんにちは、工藤です。\n"
          ]
        }
      ]
    },
    {
      "cell_type": "code",
      "source": [
        "# 名前を表示するつもりのinput_scores関数\n",
        "\n",
        "def input_scores():\n",
        "    name = ''\n",
        "    print('{}の試験結果を入力してください'.format(name))"
      ],
      "metadata": {
        "id": "gqBZH6DaEmHz"
      },
      "execution_count": null,
      "outputs": []
    },
    {
      "cell_type": "code",
      "source": [
        "# input_scores関数内の変数nameに代入するつもり\n",
        "\n",
        "name = '浅木'\n",
        "input_scores()\n",
        "name = '松田'\n",
        "input_scores()"
      ],
      "metadata": {
        "colab": {
          "base_uri": "https://localhost:8080/"
        },
        "id": "zvrqUpmWVQ5m",
        "outputId": "95cc2954-eee7-4896-be95-a9d548f265a2"
      },
      "execution_count": null,
      "outputs": [
        {
          "output_type": "stream",
          "name": "stdout",
          "text": [
            "の試験結果を入力してください\n",
            "の試験結果を入力してください\n"
          ]
        }
      ]
    },
    {
      "cell_type": "markdown",
      "source": [
        "# 引数と戻り値"
      ],
      "metadata": {
        "id": "WT-khWSLWzDL"
      }
    },
    {
      "cell_type": "code",
      "source": [
        "# 引数を受け取るhello関数\n",
        "\n",
        "def hello(name):\n",
        "    print('こんにちは。{}です。'.format(name))"
      ],
      "metadata": {
        "id": "fxRiglBhW4sf"
      },
      "execution_count": null,
      "outputs": []
    },
    {
      "cell_type": "code",
      "source": [
        "# 引数を渡しながらhello関数を呼び出す\n",
        "\n",
        "hello('浅木')\n",
        "hello('松田')"
      ],
      "metadata": {
        "colab": {
          "base_uri": "https://localhost:8080/"
        },
        "id": "1ghIgSj0XoAz",
        "outputId": "0395549b-f90d-4416-aec0-9c917c88361e"
      },
      "execution_count": null,
      "outputs": [
        {
          "output_type": "stream",
          "name": "stdout",
          "text": [
            "こんにちは。浅木です。\n",
            "こんにちは。松田です。\n"
          ]
        }
      ]
    },
    {
      "cell_type": "code",
      "source": [
        "# 複数の引数を受け取るprofile関数\n",
        "\n",
        "def profile(name, age, hobby):\n",
        "    print('私の名前は{}です。'.format(name))\n",
        "    print('年齢は{}歳です。'.format(age))\n",
        "    print('趣味は{}です。'.format(hobby))"
      ],
      "metadata": {
        "id": "TLh7oIrjYPGh"
      },
      "execution_count": null,
      "outputs": []
    },
    {
      "cell_type": "code",
      "source": [
        "# profile関数を呼び出す\n",
        "\n",
        "profile('浅木', 24, 'カフェ巡り')"
      ],
      "metadata": {
        "colab": {
          "base_uri": "https://localhost:8080/"
        },
        "id": "VCb-C9b_Y4zW",
        "outputId": "c5d94b4f-7cfc-46b5-8e24-03c733487c26"
      },
      "execution_count": null,
      "outputs": [
        {
          "output_type": "stream",
          "name": "stdout",
          "text": [
            "私の名前は浅木です。\n",
            "年齢は24歳です。\n",
            "趣味はカフェ巡りです。\n"
          ]
        }
      ]
    },
    {
      "cell_type": "code",
      "source": [
        "# リストの平均を求めるcalc_average関数\n",
        "\n",
        "def calc_average(scores):\n",
        "    avg = sum(scores) / len(scores)\n",
        "    print('平均点は{}です'.format(avg))"
      ],
      "metadata": {
        "id": "OHrGviUvZd-x"
      },
      "execution_count": null,
      "outputs": []
    },
    {
      "cell_type": "code",
      "source": [
        "# input_scores関数とcalc_average関数\n",
        "\n",
        "def input_scores(name):\n",
        "    print('{}さんの試験結果を入力してください'.format(name))\n",
        "    network = int(input('ネットワークの得点? >>'))\n",
        "    database = int(input('データベースの得点? >>'))\n",
        "    security = int(input('セキュリティの得点? >>'))\n",
        "    scores = [network, database, security]\n",
        "\n",
        "def calc_average(scores):\n",
        "    avg = sum(scores) / len(scores)\n",
        "    print('平均点は{}です'.format(avg))"
      ],
      "metadata": {
        "id": "okEZXlo9Z_7c"
      },
      "execution_count": null,
      "outputs": []
    },
    {
      "cell_type": "code",
      "source": [
        "# input_scores関数の定義\n",
        "def input_scores(name):\n",
        "    print(f\"{name}さんの試験の点数を入力してください:\")\n",
        "    score = float(input())\n",
        "    return score\n",
        "\n",
        "# calc_average関数の定義\n",
        "def calc_average(scores_list):\n",
        "    total = sum(scores_list)\n",
        "    average = total / len(scores_list)\n",
        "    return average\n",
        "\n",
        "# 試験の点数を入力し、リストに格納する\n",
        "asagi_scores = input_scores('浅木')\n",
        "matsuda_scores = input_scores('松田')\n",
        "\n",
        "# 各得点をリストに格納\n",
        "scores = [asagi_scores, matsuda_scores]\n",
        "\n",
        "# 平均を計算して表示\n",
        "average_score = calc_average(scores)\n",
        "print(f\"平均点: {average_score}\")"
      ],
      "metadata": {
        "colab": {
          "base_uri": "https://localhost:8080/"
        },
        "id": "HlgFkqaFhvkw",
        "outputId": "0399dffd-e30d-47f0-b1ae-29bae47869ed"
      },
      "execution_count": null,
      "outputs": [
        {
          "output_type": "stream",
          "name": "stdout",
          "text": [
            "浅木さんの試験の点数を入力してください:\n",
            "34\n",
            "松田さんの試験の点数を入力してください:\n",
            "45\n",
            "平均点: 39.5\n"
          ]
        }
      ]
    },
    {
      "cell_type": "code",
      "source": [
        "# 足し算の結果を返すplus関数\n",
        "\n",
        "def plus(x, y):\n",
        "    answer = x + y\n",
        "    return answer"
      ],
      "metadata": {
        "id": "PwUZP7iPh-ha"
      },
      "execution_count": null,
      "outputs": []
    },
    {
      "cell_type": "code",
      "source": [
        "# plus関数の呼び出し\n",
        "\n",
        "answer = plus(100, 50)\n",
        "print('足し算の答えは{}です'.format(answer))"
      ],
      "metadata": {
        "colab": {
          "base_uri": "https://localhost:8080/"
        },
        "id": "frlZhP2qiusP",
        "outputId": "a6a60bfb-a0d2-468a-aa50-2ddb50f27541"
      },
      "execution_count": null,
      "outputs": [
        {
          "output_type": "stream",
          "name": "stdout",
          "text": [
            "足し算の答えは150です\n"
          ]
        }
      ]
    },
    {
      "cell_type": "code",
      "source": [
        "# 様々な機能を担当する関数の定義\n",
        "\n",
        "def input_score(name):\n",
        "    print('{}さんに試験結果を入力してください'.format(name))\n",
        "    network = int(input('ネットワークの得点? >>'))\n",
        "    database = int(input('データベースの得点? >>'))\n",
        "    security = int(input('セキュリティの得点? >>'))\n",
        "    scores = [network, database, security]\n",
        "    return scores\n",
        "\n",
        "def calc_average(scores):\n",
        "    avg = sum(scores) / len(scores)\n",
        "    return avg\n",
        "\n",
        "def output_result(name, avg):\n",
        "    print('{}さんの平均点は{}です'.format(name, avg))"
      ],
      "metadata": {
        "id": "IERg6ND8i7DK"
      },
      "execution_count": null,
      "outputs": []
    },
    {
      "cell_type": "code",
      "source": [
        "# 試験結果を入力して平均点を出す\n",
        "\n",
        "# input_scores関数の定義\n",
        "def input_scores(name):\n",
        "    print(f\"{name}さんの試験の点数を入力してください:\")\n",
        "    score = float(input())\n",
        "    return score\n",
        "\n",
        "# calc_average関数の定義\n",
        "def calc_average(scores):\n",
        "    avg = sum(scores) / len(scores)\n",
        "    return avg\n",
        "\n",
        "# 試験の点数を入力し、リストに格納する\n",
        "asagi_scores = input_scores('浅木')\n",
        "matsuda_scores = input_scores('松田')\n",
        "\n",
        "# 各得点をリストに格納\n",
        "scores = [asagi_scores, matsuda_scores]\n",
        "\n",
        "# 平均を計算して表示\n",
        "asagi_avg = calc_average(scores)\n",
        "print(f\"浅木さんの平均点: {asagi_avg}\")\n",
        "\n",
        "# または、個々の平均も計算できます\n",
        "matsuda_avg = calc_average([matsuda_scores])\n",
        "print(f\"松田さんの平均点: {matsuda_avg}\")"
      ],
      "metadata": {
        "colab": {
          "base_uri": "https://localhost:8080/"
        },
        "id": "5YQmJq0ckr41",
        "outputId": "c5552773-5ff8-4577-b9c0-ae6dd0e471d7"
      },
      "execution_count": null,
      "outputs": [
        {
          "output_type": "stream",
          "name": "stdout",
          "text": [
            "浅木さんの試験の点数を入力してください:\n",
            "59\n",
            "松田さんの試験の点数を入力してください:\n",
            "7\n",
            "浅木さんの平均点: 33.0\n",
            "松田さんの平均点: 7.0\n"
          ]
        }
      ]
    },
    {
      "cell_type": "markdown",
      "source": [
        "# 関数の応用テクニック"
      ],
      "metadata": {
        "id": "ACBt5drBmKCI"
      }
    },
    {
      "cell_type": "code",
      "source": [
        "# 2つの戻り値を返す?\n",
        "\n",
        "def plus_and_minus(a, b):\n",
        "    return a + b, a - b\n",
        "\n",
        "next, prev = plus_and_minus(1978, 1)"
      ],
      "metadata": {
        "id": "B5bEcaORmNR3"
      },
      "execution_count": null,
      "outputs": []
    },
    {
      "cell_type": "code",
      "source": [
        "# 戻り値のタプルをアンパック代入\n",
        "\n",
        "def plus_and_minus(a, b):\n",
        "    return (a + b, a - b)\n",
        "\n",
        "(next, prev) = plus_and_minus(1978, 1)"
      ],
      "metadata": {
        "id": "VcyCX9B6IaB2"
      },
      "execution_count": null,
      "outputs": []
    },
    {
      "cell_type": "code",
      "source": [
        "# 指定された3食を表示するeat関数\n",
        "\n",
        "def eat(breakfast, lunch, dinner):\n",
        "    print('朝は{}を食べました'.format(breakfast))\n",
        "    print('昼は{}を食べました'.format(lunch))\n",
        "    print('夜は{}を食べました'.format(dinner))"
      ],
      "metadata": {
        "id": "G3PaetCpJJx_"
      },
      "execution_count": null,
      "outputs": []
    },
    {
      "cell_type": "code",
      "source": [
        "# 松田くんの食生活を出力する\n",
        "\n",
        "print('8月1日')\n",
        "eat('トースト', 'おにぎり', 'カレー')\n",
        "print('8月2日')\n",
        "eat('納豆ごはん', 'ラーメン', 'カレー')\n",
        "print('8月3日')\n",
        "eat('バナナ', 'そば', '焼肉')\n",
        "print('8月4日')\n",
        "eat('サンドウィッチ', 'しゅうまい弁当', 'カレー')"
      ],
      "metadata": {
        "colab": {
          "base_uri": "https://localhost:8080/"
        },
        "id": "tlhjqV__KC8s",
        "outputId": "675a1bdd-ffcd-493c-a91d-7a4701e7b28a"
      },
      "execution_count": null,
      "outputs": [
        {
          "output_type": "stream",
          "name": "stdout",
          "text": [
            "8月1日\n",
            "朝はトーストを食べました\n",
            "昼はおにぎりを食べました\n",
            "夜はカレーを食べました\n",
            "8月2日\n",
            "朝は納豆ごはんを食べました\n",
            "昼はラーメンを食べました\n",
            "夜はカレーを食べました\n",
            "8月3日\n",
            "朝はバナナを食べました\n",
            "昼はそばを食べました\n",
            "夜は焼肉を食べました\n",
            "8月4日\n",
            "朝はサンドウィッチを食べました\n",
            "昼はしゅうまい弁当を食べました\n",
            "夜はカレーを食べました\n"
          ]
        }
      ]
    },
    {
      "cell_type": "code",
      "source": [
        "# 指定された3食を表示するeat関数\n",
        "\n",
        "def eat(breakfast, lunch, dinner = 'カレー'):\n",
        "    print('朝は{}を食べました'.format(breakfast))\n",
        "    print('昼は{}を食べました'.format(lunch))\n",
        "    print('夜は{}を食べました'.format(dinner))"
      ],
      "metadata": {
        "id": "76zhwvL_Lbia"
      },
      "execution_count": null,
      "outputs": []
    },
    {
      "cell_type": "code",
      "source": [
        "# 指定された3食を出力するeat関数\n",
        "\n",
        "print('8月1日')\n",
        "eat('トースト', 'おにぎり')\n",
        "print('8月2日')\n",
        "eat('納豆ごはん', 'ラーメン')\n",
        "print('8月3日')\n",
        "eat('バナナ', 'そば', '焼肉')\n",
        "print('8月4日')\n",
        "eat('サンドウィッチ', 'しゅうまい弁当', )"
      ],
      "metadata": {
        "colab": {
          "base_uri": "https://localhost:8080/"
        },
        "id": "ENTr3XbTMHoa",
        "outputId": "ebeb6159-f5d0-4c42-f3ff-5d90c53cc9ab"
      },
      "execution_count": null,
      "outputs": [
        {
          "output_type": "stream",
          "name": "stdout",
          "text": [
            "8月1日\n",
            "朝はトーストを食べました\n",
            "昼はおにぎりを食べました\n",
            "夜はカレーを食べました\n",
            "8月2日\n",
            "朝は納豆ごはんを食べました\n",
            "昼はラーメンを食べました\n",
            "夜はカレーを食べました\n",
            "8月3日\n",
            "朝はバナナを食べました\n",
            "昼はそばを食べました\n",
            "夜は焼肉を食べました\n",
            "8月4日\n",
            "朝はサンドウィッチを食べました\n",
            "昼はしゅうまい弁当を食べました\n",
            "夜はカレーを食べました\n"
          ]
        }
      ]
    },
    {
      "cell_type": "code",
      "source": [
        "# 松田くんの基本的なeat関数\n",
        "\n",
        "def eat(breakfast, lunch = 'ラーメン', dinner = 'カレー'):\n",
        "    print(f'朝は{breakfast}を食べました')\n",
        "    print(f'昼は{lunch}を食べました')\n",
        "    print(f'夜は{dinner}を食べました')"
      ],
      "metadata": {
        "id": "Rqr9UbZWMUgX"
      },
      "execution_count": null,
      "outputs": []
    },
    {
      "cell_type": "code",
      "source": [
        "# 夜がカレーじゃない日のeat関数の呼び出し\n",
        "\n",
        "eat('納豆ごはん', 'ラーメン', 'カレーうどん')"
      ],
      "metadata": {
        "colab": {
          "base_uri": "https://localhost:8080/"
        },
        "id": "iaqqF_ZWNU1b",
        "outputId": "55349eed-ff4d-44d6-8d7a-29dc9c2d057f"
      },
      "execution_count": null,
      "outputs": [
        {
          "output_type": "stream",
          "name": "stdout",
          "text": [
            "朝は納豆ごはんを食べました\n",
            "昼はラーメンを食べました\n",
            "夜はカレーうどんを食べました\n"
          ]
        }
      ]
    },
    {
      "cell_type": "code",
      "source": [
        "# 夜がカレーじゃない日のeat関数の呼び出し\n",
        "\n",
        "eat(breakfast='納豆ごはん', dinner='カレーうどん')\n",
        "eat(dinner='カレーうどん', breakfast='納豆ごはん')\n",
        "eat('納豆ごはん', dinner='カレーうどん')"
      ],
      "metadata": {
        "colab": {
          "base_uri": "https://localhost:8080/"
        },
        "id": "TabpvlTvPG2a",
        "outputId": "128784a6-2bd9-494b-849a-948bb7a78cd2"
      },
      "execution_count": null,
      "outputs": [
        {
          "output_type": "stream",
          "name": "stdout",
          "text": [
            "朝は納豆ごはんを食べました\n",
            "昼はラーメンを食べました\n",
            "夜はカレーうどんを食べました\n",
            "朝は納豆ごはんを食べました\n",
            "昼はラーメンを食べました\n",
            "夜はカレーうどんを食べました\n",
            "朝は納豆ごはんを食べました\n",
            "昼はラーメンを食べました\n",
            "夜はカレーうどんを食べました\n"
          ]
        }
      ]
    },
    {
      "cell_type": "code",
      "source": [
        "# おやつも出力できるeat関数\n",
        "\n",
        "def eat(breakfast, lunch, dinner = 'カレー', desserts=()):\n",
        "    print(f'朝は{breakfast}を食べました')\n",
        "    print(f'昼は{lunch}を食べました')\n",
        "    print(f'夜は{dinner}を食べました')\n",
        "    for d in desserts:\n",
        "        print(f'おやつに{d}を食べました')"
      ],
      "metadata": {
        "id": "_dmQF60lPqmv"
      },
      "execution_count": null,
      "outputs": []
    },
    {
      "cell_type": "code",
      "source": [
        "# おやつも食べた日のeat関数の呼び出し\n",
        "\n",
        "eat('トースト', 'パスタ', 'カレー', ('アイス', 'チョコ', 'パフェ'))"
      ],
      "metadata": {
        "colab": {
          "base_uri": "https://localhost:8080/"
        },
        "id": "h1HBM0hxReF1",
        "outputId": "ebd67595-8c86-4b2f-de9c-008161a02238"
      },
      "execution_count": null,
      "outputs": [
        {
          "output_type": "stream",
          "name": "stdout",
          "text": [
            "朝はトーストを食べました\n",
            "昼はパスタを食べました\n",
            "夜はカレーを食べました\n",
            "おやつにアイスを食べました\n",
            "おやつにチョコを食べました\n",
            "おやつにパフェを食べました\n"
          ]
        }
      ]
    },
    {
      "cell_type": "code",
      "source": [
        "# おやつも出力できるeat関数\n",
        "\n",
        "def eat(breakfast, lunch, dinner = 'カレー', *desserts):\n",
        "    print(f'朝は{breakfast}を食べました')\n",
        "    print(f'昼は{lunch}を食べました')\n",
        "    print(f'夜は{dinner}を食べました')\n",
        "    for d in desserts:\n",
        "        print(f'おやつに{d}を食べました')"
      ],
      "metadata": {
        "id": "Lq_AKivyRxKr"
      },
      "execution_count": null,
      "outputs": []
    },
    {
      "cell_type": "code",
      "source": [
        "# おやつも食べた日のeat関数の呼び出し\n",
        "\n",
        "eat('トースト', 'パスタ', 'カレー', 'アイス', 'チョコ', 'カレー')"
      ],
      "metadata": {
        "colab": {
          "base_uri": "https://localhost:8080/"
        },
        "id": "enVsScvjSs4a",
        "outputId": "2b89ac2a-f505-4f73-c7df-13ca334f4f8b"
      },
      "execution_count": null,
      "outputs": [
        {
          "output_type": "stream",
          "name": "stdout",
          "text": [
            "朝はトーストを食べました\n",
            "昼はパスタを食べました\n",
            "夜はカレーを食べました\n",
            "おやつにアイスを食べました\n",
            "おやつにチョコを食べました\n",
            "おやつにカレーを食べました\n"
          ]
        }
      ]
    },
    {
      "cell_type": "code",
      "source": [
        "# ディクショナリを用いた可変長引数\n",
        "\n",
        "def eat(**kwards):\n",
        "    for key in kwards:\n",
        "        print('()に{}を食べました'\n",
        "              .format(key, kwards[key]))"
      ],
      "metadata": {
        "id": "KI32azRTTCwr"
      },
      "execution_count": null,
      "outputs": []
    },
    {
      "cell_type": "code",
      "source": [
        "eat(朝食='納豆', 遅めの昼食='パスタ',\n",
        "    夕方のおやつ='カレーパン')"
      ],
      "metadata": {
        "colab": {
          "base_uri": "https://localhost:8080/"
        },
        "id": "h2iR8STGT5ZF",
        "outputId": "e29028ca-32cd-4d63-f80d-b42c359f2095"
      },
      "execution_count": null,
      "outputs": [
        {
          "output_type": "stream",
          "name": "stdout",
          "text": [
            "()に朝食を食べました\n",
            "()に遅めの昼食を食べました\n",
            "()に夕方のおやつを食べました\n"
          ]
        }
      ]
    },
    {
      "cell_type": "markdown",
      "source": [
        "# 独立性の流れ"
      ],
      "metadata": {
        "id": "-fNgIV4pUhsP"
      }
    },
    {
      "cell_type": "code",
      "source": [
        "# 引数を使わないで変数nameの値を受け渡している\n",
        "\n",
        "name = '松田'\n",
        "def hello():\n",
        "    print('こんにちは' + name + 'さん')"
      ],
      "metadata": {
        "id": "8YyHNwmnUk4R"
      },
      "execution_count": null,
      "outputs": []
    },
    {
      "cell_type": "code",
      "source": [
        "# hello関数の呼び出し\n",
        "\n",
        "hello()"
      ],
      "metadata": {
        "colab": {
          "base_uri": "https://localhost:8080/"
        },
        "id": "sKlcsjpRU81_",
        "outputId": "c879cada-8519-4c03-c7e2-93c0e7f66632"
      },
      "execution_count": null,
      "outputs": [
        {
          "output_type": "stream",
          "name": "stdout",
          "text": [
            "こんにちは松田さん\n"
          ]
        }
      ]
    },
    {
      "cell_type": "code",
      "source": [
        "# グローバル変数に代入する?\n",
        "\n",
        "name = '松田'\n",
        "def change_name():\n",
        "    name = '浅木'\n",
        "def hello():\n",
        "    print('こんにちは' + name + 'さん')"
      ],
      "metadata": {
        "id": "Ww8eWjJEVBw_"
      },
      "execution_count": null,
      "outputs": []
    },
    {
      "cell_type": "code",
      "source": [
        "# 関数の中からグローバル変数への代入を試みる\n",
        "\n",
        "change_name()\n",
        "hello()"
      ],
      "metadata": {
        "colab": {
          "base_uri": "https://localhost:8080/"
        },
        "id": "z7DtJ0YFVcTV",
        "outputId": "8e2e9220-5e39-4002-a5fb-7e9f048eb564"
      },
      "execution_count": null,
      "outputs": [
        {
          "output_type": "stream",
          "name": "stdout",
          "text": [
            "こんにちは松田さん\n"
          ]
        }
      ]
    },
    {
      "cell_type": "code",
      "source": [
        "# global文を用いてグローバル変数に代入する\n",
        "\n",
        "name = '松田'\n",
        "def change_name():\n",
        "    global name\n",
        "    name = '浅木'\n",
        "def hello():\n",
        "    print('こんにちは' + name + 'さん')"
      ],
      "metadata": {
        "id": "ZOLYLayyVpzC"
      },
      "execution_count": null,
      "outputs": []
    }
  ]
}