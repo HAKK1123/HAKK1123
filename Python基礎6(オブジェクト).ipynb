{
  "nbformat": 4,
  "nbformat_minor": 0,
  "metadata": {
    "colab": {
      "provenance": [],
      "authorship_tag": "ABX9TyOsZwGhUKkrg1UPqSYRWtio",
      "include_colab_link": true
    },
    "kernelspec": {
      "name": "python3",
      "display_name": "Python 3"
    },
    "language_info": {
      "name": "python"
    }
  },
  "cells": [
    {
      "cell_type": "markdown",
      "metadata": {
        "id": "view-in-github",
        "colab_type": "text"
      },
      "source": [
        "<a href=\"https://colab.research.google.com/github/HAKK1123/HAKK1123/blob/main/Python%E5%9F%BA%E7%A4%8E6(%E3%82%AA%E3%83%96%E3%82%B8%E3%82%A7%E3%82%AF%E3%83%88).ipynb\" target=\"_parent\"><img src=\"https://colab.research.google.com/assets/colab-badge.svg\" alt=\"Open In Colab\"/></a>"
      ]
    },
    {
      "cell_type": "markdown",
      "source": [
        "# 値の正体"
      ],
      "metadata": {
        "id": "vqTHV6k8pQGi"
      }
    },
    {
      "cell_type": "code",
      "source": [
        "# append関数やformat関数の呼び出し\n",
        "\n",
        "tpl = '3人目は{}さん'\n",
        "names = ['松田', '浅木']\n",
        "names.append('工藤')\n",
        "message = tpl.format(names[2])\n",
        "print(message)"
      ],
      "metadata": {
        "colab": {
          "base_uri": "https://localhost:8080/"
        },
        "id": "EVsEcYxIpTH9",
        "outputId": "2784905d-1e75-48e0-ea18-8455a0e19ac4"
      },
      "execution_count": null,
      "outputs": [
        {
          "output_type": "stream",
          "name": "stdout",
          "text": [
            "3人目は工藤さん\n"
          ]
        }
      ]
    },
    {
      "cell_type": "code",
      "source": [
        "# 整数もリストもデータと関数をセットで持つ\n",
        "num = 10\n",
        "print(num.bit_length())\n",
        "names = ['松田', '浅木']\n",
        "names.append('工藤')"
      ],
      "metadata": {
        "colab": {
          "base_uri": "https://localhost:8080/"
        },
        "id": "FrZgEZgbqAXK",
        "outputId": "c97e46e5-b3f9-4194-b78f-50844675caa5"
      },
      "execution_count": null,
      "outputs": [
        {
          "output_type": "stream",
          "name": "stdout",
          "text": [
            "4\n"
          ]
        }
      ]
    },
    {
      "cell_type": "code",
      "source": [
        "# strオブジェクトのメソッドを活用した血液型占い\n",
        "\n",
        "userinfo = input('名前と血液型を間まで区切って1行で入力 >>')\n",
        "[name, blood] = userinfo.split(',')\n",
        "blood = blood.upper().strip()\n",
        "print('{}さんは{}型なので大吉です'.format(name, blood))"
      ],
      "metadata": {
        "colab": {
          "base_uri": "https://localhost:8080/"
        },
        "id": "L8Bdoqz8q7hw",
        "outputId": "071c04dc-48bc-40d1-e040-c19bf7fbf37d"
      },
      "execution_count": null,
      "outputs": [
        {
          "output_type": "stream",
          "name": "stdout",
          "text": [
            "名前と血液型を間まで区切って1行で入力 >>工藤,b\n",
            "工藤さんはB型なので大吉です\n"
          ]
        }
      ]
    },
    {
      "cell_type": "markdown",
      "source": [
        "# オブジェクトの設計図"
      ],
      "metadata": {
        "id": "K1CT3s6XsqCA"
      }
    },
    {
      "cell_type": "code",
      "source": [
        "# リテラルやクラス名関数を用いたオブジェクトの生成\n",
        "\n",
        "int_value1 = 0\n",
        "int_valuel2 = int()\n",
        "int_valuel3 = int(9)\n",
        "list_value1 = []\n",
        "list_valuel2 = list()\n",
        "list_valuel3 = list(('松田', '浅木'))"
      ],
      "metadata": {
        "id": "uZzTclx8stbP"
      },
      "execution_count": null,
      "outputs": []
    },
    {
      "cell_type": "code",
      "source": [
        "# RPGの勇者を表すクラスの定義と利用\n",
        "\n",
        "class Hero:\n",
        "    name = '松田'\n",
        "    hp = 100\n",
        "    def sleep(self, hours):\n",
        "        print(f'{self.name}は{hours}時間寝た')\n",
        "        self.hp += hours\n",
        "\n",
        "print('スッキリファンタジーXII ~金色の理想郷~')\n",
        "h = Hero()\n",
        "h.sleep(3)\n",
        "print(f'{h.name}のHPは現在{h.hp}です')"
      ],
      "metadata": {
        "colab": {
          "base_uri": "https://localhost:8080/"
        },
        "id": "8mTqhqg23aic",
        "outputId": "9fe3d543-454c-4152-cdaf-c040856de31a"
      },
      "execution_count": null,
      "outputs": [
        {
          "output_type": "stream",
          "name": "stdout",
          "text": [
            "スッキリファンタジーXII ~金色の理想郷~\n",
            "松田は3時間寝た\n",
            "松田のHPは現在103です\n"
          ]
        }
      ]
    },
    {
      "cell_type": "markdown",
      "source": [
        "# オブジェクトの落とし穴"
      ],
      "metadata": {
        "id": "kwetshEJ5ha3"
      }
    },
    {
      "cell_type": "code",
      "source": [
        "# オブジェクトのidentifyの確認\n",
        "\n",
        "scores1 = [80, 40, 50]\n",
        "scores2 = [80, 40, 50]\n",
        "print('scoresのidentifhy:{}'.format(id(scores1)))\n",
        "print('scores2のidentify:{}'.format(id(scores2)))\n",
        "\n",
        "if scores1 == scores2:\n",
        "   print('scores1とscores2は同じ内容です')\n",
        "else:\n",
        "   print('scores1とscores2は違う内容です')\n",
        "\n",
        "if id(scores1) == id(scores2):\n",
        "    print('scores1とscores2は同じ存在です')\n",
        "else:\n",
        "    print('scores1とscores2は違う内容です')"
      ],
      "metadata": {
        "colab": {
          "base_uri": "https://localhost:8080/"
        },
        "id": "7U1ZNpyi5lhO",
        "outputId": "8fde3a5f-73b5-4c45-bc6b-7eb4786975b4"
      },
      "execution_count": null,
      "outputs": [
        {
          "output_type": "stream",
          "name": "stdout",
          "text": [
            "scoresのidentifhy:135930674394112\n",
            "scores2のidentify:135930674806272\n",
            "scores1とscores2は同じ内容です\n",
            "scores1とscores2は違う内容です\n"
          ]
        }
      ]
    },
    {
      "cell_type": "code",
      "source": [
        "# リストオブジェクトのコピーによる不可解な動作\n",
        "\n",
        "scores1 = [80, 40, 50]\n",
        "scores2 = [80, 40, 50]\n",
        "print('scores1の先頭要素は{}'.format(scores1[0]))\n",
        "print('scores2の先頭要素は{}'.format(scores2[0]))\n",
        "\n",
        "print('変数scores2の中身を変数scores1に代入（コピー）します')\n",
        "scores1 = scores2\n",
        "\n",
        "print('scores1の先頭要素を90に書き換えます')\n",
        "scores1[0] = 90\n",
        "\n",
        "print('90を代入したscores1の先頭要素は{}'.format(scores1[0]))\n",
        "print('90を代入していないscores2の先頭要素は{}'\n",
        "      .format(scores2[0]))"
      ],
      "metadata": {
        "colab": {
          "base_uri": "https://localhost:8080/"
        },
        "id": "ECWNUA0b7SaC",
        "outputId": "e280e84d-e021-4f47-89c3-5305571e85d3"
      },
      "execution_count": null,
      "outputs": [
        {
          "output_type": "stream",
          "name": "stdout",
          "text": [
            "scores1の先頭要素は80\n",
            "scores2の先頭要素は80\n",
            "変数scores2の中身を変数scores1に代入（コピー）します\n",
            "scores1の先頭要素を90に書き換えます\n",
            "90を代入したscores1の先頭要素は90\n",
            "90を代入していないscores2の先頭要素は90\n"
          ]
        }
      ]
    },
    {
      "cell_type": "code",
      "source": [
        "# 関数に渡すと変数の内容を書き換えられてしまう\n",
        "\n",
        "def add_suffix(names):\n",
        "    for i in range(len(names)):\n",
        "        names[i] = names[i] + 'さん'\n",
        "    return names\n",
        "\n",
        "before_names = ['松田', '浅木', '工藤']\n",
        "after_names = add_suffix(before_names)\n",
        "print('さん付け後:' + after_names[0])\n",
        "print('さん付け前:' + before_names[0])"
      ],
      "metadata": {
        "colab": {
          "base_uri": "https://localhost:8080/"
        },
        "id": "ZWFJPCCJII9b",
        "outputId": "b4f5dcda-23ce-47bb-fd5e-809d049279d9"
      },
      "execution_count": null,
      "outputs": [
        {
          "output_type": "stream",
          "name": "stdout",
          "text": [
            "さん付け後:松田さん\n",
            "さん付け前:松田さん\n"
          ]
        }
      ]
    },
    {
      "cell_type": "code",
      "source": [
        "# 防御的コピーを用いて悪影響を防ぐ\n",
        "\n",
        "def add_suffix(names):\n",
        "    for i in range(len(names)):\n",
        "        names[i] = names[i] + 'さん'\n",
        "    return names\n",
        "\n",
        "before_names = ['松田', '浅木', '工藤']\n",
        "copied_names = list()\n",
        "for n in before_names:\n",
        "    copied_names.append(n)\n",
        "after_names = add_suffix(copied_names)\n",
        "print('さん付け後:' + after_names[0])\n",
        "print('さん付け前:' + before_names[0])"
      ],
      "metadata": {
        "colab": {
          "base_uri": "https://localhost:8080/"
        },
        "id": "apdwbGQaJpjA",
        "outputId": "007727aa-ac97-4123-bfcc-3c210a4a6ea0"
      },
      "execution_count": null,
      "outputs": [
        {
          "output_type": "stream",
          "name": "stdout",
          "text": [
            "さん付け後:松田さん\n",
            "さん付け前:松田\n"
          ]
        }
      ]
    },
    {
      "cell_type": "code",
      "source": [
        "# リストと文字列による書き換え時のidentity値の変化\n",
        "\n",
        "names = list()\n",
        "print('変更前のlistのidentity: {}'.format(id(names)))\n",
        "names.append('松田')\n",
        "print('変更後のlistのidentity: {}'.format(id(names)))\n",
        "\n",
        "names = '松田'\n",
        "print('変更前のstrのidentity: {}'.format(id(name)))\n",
        "name = 'スーパー' + name\n",
        "print('変更後のstrのidentity: {}'.format(id(name)))"
      ],
      "metadata": {
        "colab": {
          "base_uri": "https://localhost:8080/"
        },
        "id": "GlWNCe6mLJzm",
        "outputId": "217d79d7-3920-4a2f-f3e5-fc1500a49ba5"
      },
      "execution_count": null,
      "outputs": [
        {
          "output_type": "stream",
          "name": "stdout",
          "text": [
            "変更前のlistのidentity: 135930674435584\n",
            "変更後のlistのidentity: 135930674435584\n",
            "変更前のstrのidentity: 135930675162896\n",
            "変更後のstrのidentity: 135930675089280\n"
          ]
        }
      ]
    }
  ]
}