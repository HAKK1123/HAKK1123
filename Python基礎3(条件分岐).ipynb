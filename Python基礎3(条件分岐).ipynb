{
  "nbformat": 4,
  "nbformat_minor": 0,
  "metadata": {
    "colab": {
      "provenance": [],
      "authorship_tag": "ABX9TyMYAIfMdk8zhvnuluhDL42j",
      "include_colab_link": true
    },
    "kernelspec": {
      "name": "python3",
      "display_name": "Python 3"
    },
    "language_info": {
      "name": "python"
    }
  },
  "cells": [
    {
      "cell_type": "markdown",
      "metadata": {
        "id": "view-in-github",
        "colab_type": "text"
      },
      "source": [
        "<a href=\"https://colab.research.google.com/github/HAKK1123/HAKK1123/blob/main/Python%E5%9F%BA%E7%A4%8E3(%E6%9D%A1%E4%BB%B6%E5%88%86%E5%B2%90).ipynb\" target=\"_parent\"><img src=\"https://colab.research.google.com/assets/colab-badge.svg\" alt=\"Open In Colab\"/></a>"
      ]
    },
    {
      "cell_type": "markdown",
      "source": [
        "# 条件分岐の基本構造"
      ],
      "metadata": {
        "id": "sCq_hUbjPZx5"
      }
    },
    {
      "cell_type": "code",
      "source": [
        "# いつも同じことを言うチャットぼっと\n",
        "\n",
        "name = input('あなたの名前を教えてください >>')\n",
        "print('{}さん、こんにちは'.format(name))\n",
        "food = input('{}さんの好きな食べ物を教えてください >>'\n",
        "             .format(name))\n",
        "print('私も{}が好きですよ'.format(food))"
      ],
      "metadata": {
        "colab": {
          "base_uri": "https://localhost:8080/"
        },
        "id": "0d08RZ4WPdIq",
        "outputId": "d8f4721e-c702-4bb1-edb1-7d7af6be91a6"
      },
      "execution_count": null,
      "outputs": [
        {
          "output_type": "stream",
          "name": "stdout",
          "text": [
            "あなたの名前を教えてください >>快斗\n",
            "快斗さん、こんにちは\n",
            "快斗さんの好きな食べ物を教えてください >>おにぎり\n",
            "私もおにぎりが好きですよ\n"
          ]
        }
      ]
    },
    {
      "cell_type": "code",
      "source": [
        "# 答えが分岐するチャットボット\n",
        "\n",
        "name = input('あなたの名前を入力してください >>')\n",
        "print('{}さん、こんにちは'.format(name))\n",
        "food = input('{}さんの好きな食べ物を入力してください >>'\n",
        "             .format(name))\n",
        "if food == 'カレー':\n",
        "   print('素敵です。カレーは最高ですよね!!')\n",
        "else:\n",
        "  print('私も{}が好きですよ'.format(food))"
      ],
      "metadata": {
        "colab": {
          "base_uri": "https://localhost:8080/"
        },
        "id": "rNsxGO7pQLLO",
        "outputId": "eb78e7a6-c0c7-4a7e-e694-589603743f0f"
      },
      "execution_count": null,
      "outputs": [
        {
          "output_type": "stream",
          "name": "stdout",
          "text": [
            "あなたの名前を入力してください >>快斗\n",
            "快斗さん、こんにちは\n",
            "快斗さんの好きな食べ物を入力してください >>カレー\n",
            "素敵です。カレーは最高ですよね!!\n"
          ]
        }
      ]
    },
    {
      "cell_type": "code",
      "source": [
        "# 常に追試を受けることになるプログラム\n",
        "\n",
        "score = int(input('試験の点数を入力してくだい >>'))\n",
        "if score >= 60:\n",
        "   print('合格!')\n",
        "   print('よくがんばりましたね')\n",
        "else:\n",
        "  print('残念ながら不合格です')\n",
        "print('追試を受けてください')"
      ],
      "metadata": {
        "colab": {
          "base_uri": "https://localhost:8080/"
        },
        "id": "DDnHks3lRa2G",
        "outputId": "66cd4799-3ff6-406a-a17b-29acef6ca0d6"
      },
      "execution_count": null,
      "outputs": [
        {
          "output_type": "stream",
          "name": "stdout",
          "text": [
            "試験の点数を入力してくだい >>60\n",
            "合格!\n",
            "よくがんばりましたね\n",
            "追試を受けてください\n"
          ]
        }
      ]
    },
    {
      "cell_type": "markdown",
      "source": [
        "# 条件式"
      ],
      "metadata": {
        "id": "SyA1Ekt2SL9R"
      }
    },
    {
      "cell_type": "code",
      "source": [
        "# どんなカレーでも絶賛するチャットボット\n",
        "\n",
        "name = input('あなたの名前を入力してください >>')\n",
        "print('{}さん、こんにちは'.format(name))\n",
        "food = input('{}さんの好きな食べ物を教えてください >>'\n",
        "             .format(name))\n",
        "if 'カレー' in food:\n",
        "   print('素敵です。カレーは最高ですよね!')"
      ],
      "metadata": {
        "colab": {
          "base_uri": "https://localhost:8080/"
        },
        "id": "PN01FE4wSPhW",
        "outputId": "1f40c68d-3097-4100-8a21-66abda135ed6"
      },
      "execution_count": null,
      "outputs": [
        {
          "output_type": "stream",
          "name": "stdout",
          "text": [
            "あなたの名前を入力してください >>快斗\n",
            "快斗さん、こんにちは\n",
            "快斗さんの好きな食べ物を教えてください >>カレー\n",
            "素敵です。カレーは最高ですよね!\n"
          ]
        }
      ]
    },
    {
      "cell_type": "code",
      "source": [
        "# 100点があるかどうかを調べる\n",
        "\n",
        "scores = [80, 100, 20, 60]\n",
        "if 100 in scores:\n",
        "   print('100点満点の試験があったんですね。おめでとう!')\n",
        "else:\n",
        "    print('次はどれか一つでも100点を取ろう')"
      ],
      "metadata": {
        "colab": {
          "base_uri": "https://localhost:8080/"
        },
        "id": "BSHHW3CPTAOw",
        "outputId": "9a4b5c9c-8f77-4e73-8341-64d5ebb9c87a"
      },
      "execution_count": null,
      "outputs": [
        {
          "output_type": "stream",
          "name": "stdout",
          "text": [
            "100点満点の試験があったんですね。おめでとう!\n"
          ]
        }
      ]
    },
    {
      "cell_type": "code",
      "source": [
        "# ディクショナリのキーをチェックする\n",
        "\n",
        "scores = {'network':60, 'database':80, 'security':50}\n",
        "\n",
        "key = input('追加する科目を入力してください >>')\n",
        "if key in scores:\n",
        "   print('既に登録済みです')\n",
        "else:\n",
        "    data = int(input('得点を入力してください >>'))\n",
        "    scores[key] = data\n",
        "print(scores)"
      ],
      "metadata": {
        "colab": {
          "base_uri": "https://localhost:8080/"
        },
        "id": "q-EznpvITxM0",
        "outputId": "2c27f3a1-c947-4c80-8970-2a596db99cb6"
      },
      "execution_count": null,
      "outputs": [
        {
          "output_type": "stream",
          "name": "stdout",
          "text": [
            "追加する科目を入力してください >>数学y\n",
            "得点を入力してください >>100\n",
            "{'network': 60, 'database': 80, 'security': 50, '数学y': 100}\n"
          ]
        }
      ]
    },
    {
      "cell_type": "code",
      "source": [
        "# 文字列の大小比較\n",
        "\n",
        "name = '松田'\n",
        "if name < '浅木':\n",
        "   print('条件が成立')\n",
        "else:\n",
        "  print('条件が成立しない ')"
      ],
      "metadata": {
        "colab": {
          "base_uri": "https://localhost:8080/"
        },
        "id": "t5EZl5NMUoJm",
        "outputId": "983dedbf-2971-4059-a93b-4a5b6fecff63"
      },
      "execution_count": null,
      "outputs": [
        {
          "output_type": "stream",
          "name": "stdout",
          "text": [
            "条件が成立\n"
          ]
        }
      ]
    },
    {
      "cell_type": "code",
      "source": [
        "# 条件式の評価結果を確認\n",
        "\n",
        "score = int(input('試験の点数を入力 >>'))\n",
        "print(score >= 60)"
      ],
      "metadata": {
        "colab": {
          "base_uri": "https://localhost:8080/"
        },
        "id": "siR-NFl6VFDX",
        "outputId": "90749d3b-145f-4119-a7c6-53e22946c672"
      },
      "execution_count": null,
      "outputs": [
        {
          "output_type": "stream",
          "name": "stdout",
          "text": [
            "試験の点数を入力 >>55\n",
            "False\n"
          ]
        }
      ]
    },
    {
      "cell_type": "markdown",
      "source": [
        "# 分岐構文のバリエーション"
      ],
      "metadata": {
        "id": "cs1nDZS-V3oi"
      }
    },
    {
      "cell_type": "code",
      "source": [
        "# elseブロックのない分岐\n",
        "\n",
        "name = input('あなたの名前を入力してください >>')\n",
        "print('{}さん、こんにちは'.format(name))\n",
        "if name == '松田':\n",
        "   print('松田さんに会えて嬉しいです')\n",
        "\n",
        "food = input('{}さんの好きな食べ物を教えてください >>'\n",
        "             .format(name))\n",
        "if 'カレー' in food:\n",
        "   print('素敵です。とにかくカレーは最高ですよね!!')\n",
        "else:\n",
        "   print('私も{}が好きですよ'.format(food))"
      ],
      "metadata": {
        "colab": {
          "base_uri": "https://localhost:8080/"
        },
        "id": "L9skaZUYV7mJ",
        "outputId": "bbfa0567-d6df-4277-9345-0f5369948460"
      },
      "execution_count": null,
      "outputs": [
        {
          "output_type": "stream",
          "name": "stdout",
          "text": [
            "あなたの名前を入力してください >>松田\n",
            "松田さん、こんにちは\n",
            "松田さんに会えて嬉しいです\n",
            "松田さんの好きな食べ物を教えてください >>カレー\n",
            "素敵です。とにかくカレーは最高ですよね!!\n"
          ]
        }
      ]
    },
    {
      "cell_type": "code",
      "source": [
        "# 多分岐するif文\n",
        "\n",
        "score = int(input('試験の点数を入力してください >>'))\n",
        "if score < 0 or score > 100:\n",
        "   print('異常な得点です')\n",
        "   print('入力し直してください')\n",
        "elif score >= 60:\n",
        "    print('合格!')\n",
        "    print('よくがんばりました')\n",
        "else:\n",
        "   print('残念ながら不合格です')\n",
        "   print('追試を受けてください')"
      ],
      "metadata": {
        "colab": {
          "base_uri": "https://localhost:8080/"
        },
        "id": "0A2tnrNeXH3a",
        "outputId": "a0281e36-6049-4ba3-cfe7-beffe46669fe"
      },
      "execution_count": null,
      "outputs": [
        {
          "output_type": "stream",
          "name": "stdout",
          "text": [
            "試験の点数を入力してください >>６５\n",
            "合格!\n",
            "よくがんばりました\n"
          ]
        }
      ]
    },
    {
      "cell_type": "code",
      "source": [
        "# 晩御飯をレコメンドするチャットボット\n",
        "\n",
        "print('全ての質問に y または n で答えてください')\n",
        "okane_aruka = input('お金に余裕はありますか? >>')\n",
        "if okane_aruka == 'y':\n",
        "   onaka_suiteruka = input('お腹がすごく空いてますか? >>')\n",
        "   nomitai_kibunka = input('ビールを飲みたいですか? >>')\n",
        "   if onaka_suiteruka == 'y' and nomitai_kibunka == 'y':\n",
        "      print('焼肉はいかがですか？')\n",
        "   elif onaka_suiteruka == 'y':\n",
        "       print('焼き鳥はいかがですか?')\n",
        "   else:\n",
        "       print('パスタはいかがですか?')\n",
        "   yashoku_iruka = input('夜食は必要ですか？ >>')\n",
        "   if yashoku_iruka == 'y':\n",
        "       print('コンビニのチキンはいかがですか')\n",
        "else:\n",
        "     print('家で食べましょう')"
      ],
      "metadata": {
        "colab": {
          "base_uri": "https://localhost:8080/"
        },
        "id": "HAlJxK4fYQGU",
        "outputId": "62a3d63d-f8a2-482b-d71d-38d4d0843dd8"
      },
      "execution_count": null,
      "outputs": [
        {
          "output_type": "stream",
          "name": "stdout",
          "text": [
            "全ての質問に y または n で答えてください\n",
            "お金に余裕はありますか? >>n\n",
            "家で食べましょう\n"
          ]
        }
      ]
    }
  ]
}